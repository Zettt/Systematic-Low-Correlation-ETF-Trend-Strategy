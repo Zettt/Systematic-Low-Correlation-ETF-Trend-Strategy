{
 "cells": [
  {
   "cell_type": "markdown",
   "metadata": {},
   "source": [
    "# ETF Trend-Following Strategy Backtest Analysis"
   ]
  },
  {
   "cell_type": "code",
   "execution_count": null,
   "metadata": {},
   "outputs": [],
   "source": [
    "import pandas as pd\n",
    "import numpy as np\n",
    "import matplotlib.pyplot as plt\n",
    "%matplotlib inline\n",
    "import plotly.express as px\n",
    "import plotly.graph_objects as go\n",
    "from plotly.subplots import make_subplots\n",
    "\n",
    "from backtester import Backtester"
   ]
  },
  {
   "cell_type": "markdown",
   "metadata": {},
   "source": [
    "## Load Data"
   ]
  },
  {
   "cell_type": "code",
   "execution_count": null,
   "metadata": {},
   "outputs": [],
   "source": [
    "# Load price data and convert dates\n",
    "daily_prices = pd.read_csv('data/daily_prices.csv', parse_dates=['Date'])\n",
    "weekly_prices = pd.read_csv('data/weekly_prices.csv', parse_dates=['Date'])\n",
    "\n",
    "print(f\"Data from {daily_prices['Date'].iloc[0]} to {daily_prices['Date'].iloc[-1]}\")\n",
    "daily_prices.head()"
   ]
  },
  {
   "cell_type": "markdown",
   "metadata": {},
   "source": [
    "## Run Backtest"
   ]
  },
  {
   "cell_type": "code",
   "execution_count": null,
   "metadata": {},
   "outputs": [],
   "source": [
    "# Initialize and run backtest\n",
    "bt = Backtester(daily_prices, weekly_prices)\n",
    "bt.run_backtest(initial_capital=10000, rebalance_freq='M')\n",
    "\n",
    "# Get performance metrics\n",
    "metrics = bt.get_performance_metrics()\n",
    "metrics"
   ]
  },
  {
   "cell_type": "markdown",
   "metadata": {},
   "source": [
    "## Performance Visualization"
   ]
  },
  {
   "cell_type": "code",
   "execution_count": null,
   "metadata": {},
   "outputs": [],
   "source": [
    "# Show equity curve and drawdown\n",
    "fig = bt.plot_results()\n",
    "fig.show()"
   ]
  },
  {
   "cell_type": "markdown",
   "metadata": {},
   "source": [
    "## Trade Analysis"
   ]
  },
  {
   "cell_type": "code",
   "execution_count": null,
   "metadata": {},
   "outputs": [],
   "source": [
    "# Show trade history\n",
    "print(bt.trades.head(10))\n",
    "print(f'{len(bt.trades)} trades')"
   ]
  },
  {
   "cell_type": "markdown",
   "metadata": {},
   "source": [
    "## Performance Summary"
   ]
  },
  {
   "cell_type": "code",
   "execution_count": null,
   "metadata": {},
   "outputs": [],
   "source": [
    "def print_metrics(metrics):\n",
    "    print(\"Strategy Performance:\")\n",
    "    print(f\"  CAGR: {metrics['strategy']['CAGR']:.1%}\")\n",
    "    print(f\"  Max Drawdown: {metrics['strategy']['Max Drawdown']:.1%}\")\n",
    "    print(f\"  Sharpe Ratio: {metrics['strategy']['Sharpe Ratio']:.2f}\")\n",
    "    print(f\"  Peak: {metrics['strategy']['Peak Date']}\")\n",
    "    print(f\"  Trough: {metrics['strategy']['Trough Date']}\")\n",
    "    \n",
    "    print(\"\\nSPY Benchmark:\")\n",
    "    print(f\"  CAGR: {metrics['benchmark']['CAGR']:.1%}\")\n",
    "    print(f\"  Max Drawdown: {metrics['benchmark']['Max Drawdown']:.1%}\")\n",
    "    print(f\"  Sharpe Ratio: {metrics['benchmark']['Sharpe Ratio']:.2f}\")\n",
    "\n",
    "print_metrics(metrics)"
   ]
  }
 ],
 "metadata": {
  "kernelspec": {
   "display_name": ".venv",
   "language": "python",
   "name": "python3"
  },
  "language_info": {
   "codemirror_mode": {
    "name": "ipython",
    "version": 3
   },
   "file_extension": ".py",
   "mimetype": "text/x-python",
   "name": "python",
   "nbconvert_exporter": "python",
   "pygments_lexer": "ipython3",
   "version": "3.13.3"
  }
 },
 "nbformat": 4,
 "nbformat_minor": 4
}
